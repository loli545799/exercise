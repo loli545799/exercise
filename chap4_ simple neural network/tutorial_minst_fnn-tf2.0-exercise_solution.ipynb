{
 "cells": [
  {
   "cell_type": "markdown",
   "metadata": {},
   "source": [
    "## 准备数据"
   ]
  },
  {
   "cell_type": "code",
   "execution_count": 48,
   "metadata": {},
   "outputs": [],
   "source": [
    "import os\n",
    "import numpy as np\n",
    "import tensorflow as tf\n",
    "from tensorflow import keras\n",
    "from tensorflow.keras import layers, optimizers, datasets\n",
    "\n",
    "os.environ['TF_CPP_MIN_LOG_LEVEL'] = '2'  # or any {'0', '1', '2'}\n",
    "\n",
    "def mnist_dataset():\n",
    "    (x, y), (x_test, y_test) = datasets.mnist.load_data()\n",
    "    #normalize\n",
    "    x = x/255.0\n",
    "    x_test = x_test/255.0\n",
    "    \n",
    "    return (x, y), (x_test, y_test)"
   ]
  },
  {
   "cell_type": "code",
   "execution_count": 49,
   "metadata": {},
   "outputs": [
    {
     "name": "stdout",
     "output_type": "stream",
     "text": [
      "[(1, 'a'), (2, 'b'), (3, 'c'), (4, 'd')]\n"
     ]
    }
   ],
   "source": [
    "print(list(zip([1, 2, 3, 4], ['a', 'b', 'c', 'd'])))"
   ]
  },
  {
   "cell_type": "markdown",
   "metadata": {},
   "source": [
    "## 建立模型"
   ]
  },
  {
   "cell_type": "code",
   "execution_count": 50,
   "metadata": {},
   "outputs": [],
   "source": [
    "class myModel:\n",
    "    def __init__(self):\n",
    "        ####################\n",
    "        '''声明模型对应的参数'''\n",
    "        ####################\n",
    "        self.W1 = tf.Variable(tf.random.normal(shape=[28*28, 100]))\n",
    "        self.W2 = tf.Variable(tf.random.normal(shape=[100, 10]))\n",
    "        self.b1 = tf.Variable(tf.ones(100))\n",
    "        self.b2 = tf.Variable(tf.ones(10))\n",
    "\n",
    "    def __call__(self, x):\n",
    "        ####################\n",
    "        '''实现模型函数体，返回未归一化的logits'''\n",
    "        ####################\n",
    "        reshape_x = tf.reshape(x,[x.shape[0],x.shape[1]*x.shape[2]])\n",
    "\n",
    "        # 隐藏层\n",
    "        hiden_layer = tf.nn.relu(tf.matmul(reshape_x,self.W1)+self.b1)\n",
    "\n",
    "        # 输出层\n",
    "        logits = tf.matmul(hiden_layer,self.W2)+self.b2\n",
    "\n",
    "        return logits\n",
    "        \n",
    "model = myModel()\n",
    "\n",
    "optimizer = optimizers.Adam()"
   ]
  },
  {
   "cell_type": "markdown",
   "metadata": {},
   "source": [
    "## 计算 loss"
   ]
  },
  {
   "cell_type": "code",
   "execution_count": 51,
   "metadata": {},
   "outputs": [],
   "source": [
    "@tf.function\n",
    "def compute_loss(logits, labels):\n",
    "    return tf.reduce_mean(\n",
    "        tf.nn.sparse_softmax_cross_entropy_with_logits(\n",
    "            logits=logits, labels=labels))\n",
    "\n",
    "@tf.function\n",
    "def compute_accuracy(logits, labels):\n",
    "    predictions = tf.argmax(logits, axis=1)\n",
    "    return tf.reduce_mean(tf.cast(tf.equal(predictions, labels), tf.float32))\n",
    "\n",
    "@tf.function\n",
    "def train_one_step(model, optimizer, x, y):\n",
    "    with tf.GradientTape() as tape:\n",
    "        logits = model(x)\n",
    "        loss = compute_loss(logits, y)\n",
    "\n",
    "    # compute gradient\n",
    "    trainable_vars = [model.W1, model.W2, model.b1, model.b2]\n",
    "    grads = tape.gradient(loss, trainable_vars)\n",
    "    for g, v in zip(grads, trainable_vars):\n",
    "        v.assign_sub(0.01*g)\n",
    "\n",
    "    accuracy = compute_accuracy(logits, y)\n",
    "\n",
    "    # loss and accuracy is scalar tensor\n",
    "    return loss, accuracy\n",
    "\n",
    "@tf.function\n",
    "def test(model, x, y):\n",
    "    logits = model(x)\n",
    "    loss = compute_loss(logits, y)\n",
    "    accuracy = compute_accuracy(logits, y)\n",
    "    return loss, accuracy"
   ]
  },
  {
   "cell_type": "markdown",
   "metadata": {},
   "source": [
    "## 实际训练"
   ]
  },
  {
   "cell_type": "code",
   "execution_count": 53,
   "metadata": {},
   "outputs": [
    {
     "name": "stdout",
     "output_type": "stream",
     "text": [
      "epoch 0 : loss 30.42042 ; accuracy 0.31065\n",
      "epoch 1 : loss 30.054417 ; accuracy 0.31553334\n",
      "epoch 2 : loss 29.69847 ; accuracy 0.31991667\n",
      "epoch 3 : loss 29.352203 ; accuracy 0.32418334\n",
      "epoch 4 : loss 29.01535 ; accuracy 0.3288\n",
      "epoch 5 : loss 28.687504 ; accuracy 0.33308333\n",
      "epoch 6 : loss 28.368439 ; accuracy 0.3375\n",
      "epoch 7 : loss 28.057867 ; accuracy 0.34148332\n",
      "epoch 8 : loss 27.755424 ; accuracy 0.34583333\n",
      "epoch 9 : loss 27.460817 ; accuracy 0.35041666\n",
      "epoch 10 : loss 27.173841 ; accuracy 0.3551\n",
      "epoch 11 : loss 26.894245 ; accuracy 0.35936666\n",
      "epoch 12 : loss 26.621801 ; accuracy 0.36285\n",
      "epoch 13 : loss 26.35615 ; accuracy 0.3668\n",
      "epoch 14 : loss 26.09692 ; accuracy 0.37066665\n",
      "epoch 15 : loss 25.843863 ; accuracy 0.37453333\n",
      "epoch 16 : loss 25.596708 ; accuracy 0.37816668\n",
      "epoch 17 : loss 25.355165 ; accuracy 0.38173333\n",
      "epoch 18 : loss 25.119013 ; accuracy 0.38508335\n",
      "epoch 19 : loss 24.8881 ; accuracy 0.38833332\n",
      "epoch 20 : loss 24.662315 ; accuracy 0.39185\n",
      "epoch 21 : loss 24.441483 ; accuracy 0.39471668\n",
      "epoch 22 : loss 24.2254 ; accuracy 0.39783335\n",
      "epoch 23 : loss 24.013859 ; accuracy 0.40115\n",
      "epoch 24 : loss 23.806683 ; accuracy 0.4039\n",
      "epoch 25 : loss 23.603714 ; accuracy 0.4069\n",
      "epoch 26 : loss 23.404812 ; accuracy 0.40986666\n",
      "epoch 27 : loss 23.209862 ; accuracy 0.41246668\n",
      "epoch 28 : loss 23.018766 ; accuracy 0.41538334\n",
      "epoch 29 : loss 22.831488 ; accuracy 0.4185\n",
      "epoch 30 : loss 22.647882 ; accuracy 0.42125\n",
      "epoch 31 : loss 22.46778 ; accuracy 0.42433333\n",
      "epoch 32 : loss 22.291145 ; accuracy 0.42688334\n",
      "epoch 33 : loss 22.117777 ; accuracy 0.4292\n",
      "epoch 34 : loss 21.947577 ; accuracy 0.43196666\n",
      "epoch 35 : loss 21.780497 ; accuracy 0.4345\n",
      "epoch 36 : loss 21.616455 ; accuracy 0.43681666\n",
      "epoch 37 : loss 21.45535 ; accuracy 0.4396\n",
      "epoch 38 : loss 21.29711 ; accuracy 0.44213334\n",
      "epoch 39 : loss 21.141567 ; accuracy 0.44418332\n",
      "epoch 40 : loss 20.988657 ; accuracy 0.44655\n",
      "epoch 41 : loss 20.838284 ; accuracy 0.44881666\n",
      "epoch 42 : loss 20.690413 ; accuracy 0.4508\n",
      "epoch 43 : loss 20.545013 ; accuracy 0.45296666\n",
      "epoch 44 : loss 20.402052 ; accuracy 0.45526665\n",
      "epoch 45 : loss 20.261423 ; accuracy 0.45715\n",
      "epoch 46 : loss 20.123108 ; accuracy 0.45936668\n",
      "epoch 47 : loss 19.986986 ; accuracy 0.4616\n",
      "epoch 48 : loss 19.852987 ; accuracy 0.46346667\n",
      "epoch 49 : loss 19.721067 ; accuracy 0.46548334\n",
      "test loss 18.806826 ; accuracy 0.4783\n"
     ]
    }
   ],
   "source": [
    "train_data, test_data = mnist_dataset()\n",
    "for epoch in range(50):\n",
    "    loss, accuracy = train_one_step(model, optimizer, \n",
    "                                    tf.constant(train_data[0], dtype=tf.float32), \n",
    "                                    tf.constant(train_data[1], dtype=tf.int64))\n",
    "    print('epoch', epoch, ': loss', loss.numpy(), '; accuracy', accuracy.numpy())\n",
    "loss, accuracy = test(model, \n",
    "                      tf.constant(test_data[0], dtype=tf.float32), \n",
    "                      tf.constant(test_data[1], dtype=tf.int64))\n",
    "\n",
    "print('test loss', loss.numpy(), '; accuracy', accuracy.numpy())"
   ]
  }
 ],
 "metadata": {
  "kernelspec": {
   "display_name": "Python 3",
   "language": "python",
   "name": "python3"
  },
  "language_info": {
   "codemirror_mode": {
    "name": "ipython",
    "version": 3
   },
   "file_extension": ".py",
   "mimetype": "text/x-python",
   "name": "python",
   "nbconvert_exporter": "python",
   "pygments_lexer": "ipython3",
   "version": "3.11.8"
  }
 },
 "nbformat": 4,
 "nbformat_minor": 2
}
